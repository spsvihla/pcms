{
 "cells": [
  {
   "cell_type": "code",
   "execution_count": 1,
   "metadata": {},
   "outputs": [],
   "source": [
    "import pcms.tree\n",
    "import time, os"
   ]
  },
  {
   "cell_type": "code",
   "execution_count": 2,
   "metadata": {},
   "outputs": [],
   "source": [
    "data_dir = os.path.join(os.environ.get(\"DATA\"), \"greengenes/\")"
   ]
  },
  {
   "cell_type": "code",
   "execution_count": 11,
   "metadata": {},
   "outputs": [
    {
     "name": "stdout",
     "output_type": "stream",
     "text": [
      "Time to parse: 0.0243\n",
      "Tree size: 198,643\n",
      "Covariance matrix size: 39,459,041,449\n",
      "Minimum sparsification: 0.9997405591057443\n"
     ]
    }
   ],
   "source": [
    "start = time.time()\n",
    "t = pcms.tree.nwk2tree(os.path.join(data_dir, \"gg_13_5_otus/trees/97_otus.nwk\"))\n",
    "print(f\"Time to parse: {time.time() - start:0.3}\")\n",
    "print(f\"Tree size: {t.get_size():,}\")\n",
    "print(f\"Covariance matrix size: {t.get_size()**2:,}\")\n",
    "print(f\"Minimum sparsification: {1-1/t.get_size()-2*t.find_epl()/t.get_size()**2}\")"
   ]
  },
  {
   "cell_type": "code",
   "execution_count": 12,
   "metadata": {},
   "outputs": [
    {
     "name": "stdout",
     "output_type": "stream",
     "text": [
      "Time to parse: 2.75\n",
      "Tree size: 22,090,656\n",
      "Covariance matrix size: 487,997,082,510,336\n",
      "Minimum sparsification: 0.9999932613475042\n"
     ]
    }
   ],
   "source": [
    "start = time.time()\n",
    "t = pcms.tree.nwk2tree(os.path.join(data_dir, \"2022.10.phylogeny.id.nwk\"))\n",
    "print(f\"Time to parse: {time.time() - start:0.3}\")\n",
    "print(f\"Tree size: {t.get_size():,}\")\n",
    "print(f\"Covariance matrix size: {t.get_size()**2:,}\")\n",
    "print(f\"Minimum sparsification: {1-1/t.get_size()-2*t.find_epl()/t.get_size()**2}\")"
   ]
  },
  {
   "cell_type": "code",
   "execution_count": null,
   "metadata": {},
   "outputs": [],
   "source": []
  }
 ],
 "metadata": {
  "kernelspec": {
   "display_name": ".venv",
   "language": "python",
   "name": "python3"
  },
  "language_info": {
   "codemirror_mode": {
    "name": "ipython",
    "version": 3
   },
   "file_extension": ".py",
   "mimetype": "text/x-python",
   "name": "python",
   "nbconvert_exporter": "python",
   "pygments_lexer": "ipython3",
   "version": "3.10.12"
  }
 },
 "nbformat": 4,
 "nbformat_minor": 2
}
