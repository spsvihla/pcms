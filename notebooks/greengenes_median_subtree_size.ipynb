{
 "cells": [
  {
   "cell_type": "code",
   "execution_count": 1,
   "metadata": {},
   "outputs": [],
   "source": [
    "import pcms.tree\n",
    "import time"
   ]
  },
  {
   "cell_type": "code",
   "execution_count": 5,
   "metadata": {},
   "outputs": [
    {
     "name": "stdout",
     "output_type": "stream",
     "text": [
      "Time to parse: 0.022011995315551758\n",
      "Tree size: 198,643\n"
     ]
    }
   ],
   "source": [
    "start = time.time()\n",
    "t = pcms.tree.nwk2tree(\"../data/97_otus_unannotated.nwk\")\n",
    "print(\"Time to parse:\", time.time() - start)\n",
    "print(f\"Tree size: {t.get_size():,}\")"
   ]
  },
  {
   "cell_type": "code",
   "execution_count": 6,
   "metadata": {},
   "outputs": [
    {
     "name": "stdout",
     "output_type": "stream",
     "text": [
      "Time to parse:  3.346013069152832\n",
      "Tree size: 22,090,656\n"
     ]
    }
   ],
   "source": [
    "start = time.time()\n",
    "t = pcms.tree.nwk2tree(f\"../data/2022.10.phylogeny.id.nwk\")\n",
    "print(\"Time to parse: \", time.time() - start)\n",
    "print(f\"Tree size: {t.get_size():,}\")"
   ]
  },
  {
   "cell_type": "code",
   "execution_count": null,
   "metadata": {},
   "outputs": [],
   "source": []
  }
 ],
 "metadata": {
  "kernelspec": {
   "display_name": ".venv",
   "language": "python",
   "name": "python3"
  },
  "language_info": {
   "codemirror_mode": {
    "name": "ipython",
    "version": 3
   },
   "file_extension": ".py",
   "mimetype": "text/x-python",
   "name": "python",
   "nbconvert_exporter": "python",
   "pygments_lexer": "ipython3",
   "version": "3.10.12"
  }
 },
 "nbformat": 4,
 "nbformat_minor": 2
}
